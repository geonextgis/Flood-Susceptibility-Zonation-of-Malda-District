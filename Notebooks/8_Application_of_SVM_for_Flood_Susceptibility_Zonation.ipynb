{
 "cells": [
  {
   "cell_type": "markdown",
   "id": "337bb129-8c3d-448c-ba1c-2e9b52e5b4f2",
   "metadata": {},
   "source": [
    "# **Application of Support Vector Machine for Flood Susceptibility Zonation**"
   ]
  },
  {
   "cell_type": "markdown",
   "id": "dff248f6-0078-4aad-8d57-603457e42583",
   "metadata": {},
   "source": [
    "## **Import Required Libraries**"
   ]
  },
  {
   "cell_type": "code",
   "execution_count": 1,
   "id": "bbc9293d-960d-41f5-9c41-aeb4f4c24f41",
   "metadata": {
    "tags": []
   },
   "outputs": [],
   "source": [
    "import numpy as np\n",
    "import pandas as pd\n",
    "import matplotlib.pyplot as plt\n",
    "import seaborn as sns\n",
    "import warnings\n",
    "warnings.filterwarnings(\"ignore\")\n",
    "\n",
    "sns.set_style(\"whitegrid\")"
   ]
  },
  {
   "cell_type": "markdown",
   "id": "95334ad5-3ab2-415d-980e-f8cfe26a4cf7",
   "metadata": {},
   "source": [
    "## **Read the Data**"
   ]
  },
  {
   "cell_type": "code",
   "execution_count": 2,
   "id": "e7bb5655-504a-4d99-b70f-95b53aa32aa4",
   "metadata": {
    "tags": []
   },
   "outputs": [],
   "source": [
    "training_df = pd.read_csv(\"D:\\Research Works\\Flood\\Flood_Risk_Zonation_of_Maldah\\Datasets\\CSVs\\Training_Data.csv\")\n",
    "testing_df = pd.read_csv(\"D:\\Research Works\\Flood\\Flood_Risk_Zonation_of_Maldah\\Datasets\\CSVs\\Testing_Data.csv\")"
   ]
  },
  {
   "cell_type": "code",
   "execution_count": 3,
   "id": "f9ed531d-d714-4995-9756-04db3b33d58b",
   "metadata": {
    "tags": []
   },
   "outputs": [
    {
     "data": {
      "text/html": [
       "<div>\n",
       "<style scoped>\n",
       "    .dataframe tbody tr th:only-of-type {\n",
       "        vertical-align: middle;\n",
       "    }\n",
       "\n",
       "    .dataframe tbody tr th {\n",
       "        vertical-align: top;\n",
       "    }\n",
       "\n",
       "    .dataframe thead th {\n",
       "        text-align: right;\n",
       "    }\n",
       "</style>\n",
       "<table border=\"1\" class=\"dataframe\">\n",
       "  <thead>\n",
       "    <tr style=\"text-align: right;\">\n",
       "      <th></th>\n",
       "      <th>Relief_Amplitude</th>\n",
       "      <th>Dist_to_River</th>\n",
       "      <th>TWI</th>\n",
       "      <th>Rainfall</th>\n",
       "      <th>Clay_Content</th>\n",
       "      <th>STI</th>\n",
       "      <th>TRI</th>\n",
       "      <th>TPI</th>\n",
       "      <th>SPI</th>\n",
       "      <th>NDVI</th>\n",
       "      <th>...</th>\n",
       "      <th>Lithology_Fe_Ox_S_Si_Cl</th>\n",
       "      <th>Lithology_S_Si_Cl</th>\n",
       "      <th>Lithology_S_Si_Cl_wi_Cal_Co</th>\n",
       "      <th>Lithology_S_Si_Gr</th>\n",
       "      <th>LULC_Agricultural_Field</th>\n",
       "      <th>LULC_Bare_Ground</th>\n",
       "      <th>LULC_Built_UP_Area</th>\n",
       "      <th>LULC_Natural_Vegetation</th>\n",
       "      <th>LULC_Waterbodies</th>\n",
       "      <th>Flood</th>\n",
       "    </tr>\n",
       "  </thead>\n",
       "  <tbody>\n",
       "    <tr>\n",
       "      <th>0</th>\n",
       "      <td>0.142857</td>\n",
       "      <td>0.518128</td>\n",
       "      <td>0.165104</td>\n",
       "      <td>0.587614</td>\n",
       "      <td>0.785714</td>\n",
       "      <td>0.000000</td>\n",
       "      <td>0.280636</td>\n",
       "      <td>0.580849</td>\n",
       "      <td>0.000000e+00</td>\n",
       "      <td>0.700116</td>\n",
       "      <td>...</td>\n",
       "      <td>0</td>\n",
       "      <td>1</td>\n",
       "      <td>0</td>\n",
       "      <td>0</td>\n",
       "      <td>1</td>\n",
       "      <td>0</td>\n",
       "      <td>0</td>\n",
       "      <td>0</td>\n",
       "      <td>0</td>\n",
       "      <td>1</td>\n",
       "    </tr>\n",
       "    <tr>\n",
       "      <th>1</th>\n",
       "      <td>0.000000</td>\n",
       "      <td>0.128572</td>\n",
       "      <td>0.571387</td>\n",
       "      <td>0.344053</td>\n",
       "      <td>0.690476</td>\n",
       "      <td>0.000000</td>\n",
       "      <td>0.000000</td>\n",
       "      <td>0.501084</td>\n",
       "      <td>5.680000e-06</td>\n",
       "      <td>0.437787</td>\n",
       "      <td>...</td>\n",
       "      <td>0</td>\n",
       "      <td>1</td>\n",
       "      <td>0</td>\n",
       "      <td>0</td>\n",
       "      <td>1</td>\n",
       "      <td>0</td>\n",
       "      <td>0</td>\n",
       "      <td>0</td>\n",
       "      <td>0</td>\n",
       "      <td>1</td>\n",
       "    </tr>\n",
       "    <tr>\n",
       "      <th>2</th>\n",
       "      <td>0.061224</td>\n",
       "      <td>0.164325</td>\n",
       "      <td>0.149176</td>\n",
       "      <td>0.698571</td>\n",
       "      <td>0.761905</td>\n",
       "      <td>0.000000</td>\n",
       "      <td>0.177382</td>\n",
       "      <td>0.533338</td>\n",
       "      <td>0.000000e+00</td>\n",
       "      <td>0.601291</td>\n",
       "      <td>...</td>\n",
       "      <td>0</td>\n",
       "      <td>1</td>\n",
       "      <td>0</td>\n",
       "      <td>0</td>\n",
       "      <td>1</td>\n",
       "      <td>0</td>\n",
       "      <td>0</td>\n",
       "      <td>0</td>\n",
       "      <td>0</td>\n",
       "      <td>1</td>\n",
       "    </tr>\n",
       "    <tr>\n",
       "      <th>3</th>\n",
       "      <td>0.102041</td>\n",
       "      <td>0.433816</td>\n",
       "      <td>0.446274</td>\n",
       "      <td>0.324463</td>\n",
       "      <td>0.714286</td>\n",
       "      <td>0.000881</td>\n",
       "      <td>0.263824</td>\n",
       "      <td>0.460808</td>\n",
       "      <td>3.050000e-05</td>\n",
       "      <td>0.616554</td>\n",
       "      <td>...</td>\n",
       "      <td>0</td>\n",
       "      <td>0</td>\n",
       "      <td>0</td>\n",
       "      <td>0</td>\n",
       "      <td>1</td>\n",
       "      <td>0</td>\n",
       "      <td>0</td>\n",
       "      <td>0</td>\n",
       "      <td>0</td>\n",
       "      <td>1</td>\n",
       "    </tr>\n",
       "    <tr>\n",
       "      <th>4</th>\n",
       "      <td>0.122449</td>\n",
       "      <td>0.628029</td>\n",
       "      <td>0.320437</td>\n",
       "      <td>0.359155</td>\n",
       "      <td>0.738095</td>\n",
       "      <td>0.000070</td>\n",
       "      <td>0.327950</td>\n",
       "      <td>0.456793</td>\n",
       "      <td>7.680000e-07</td>\n",
       "      <td>0.572900</td>\n",
       "      <td>...</td>\n",
       "      <td>0</td>\n",
       "      <td>0</td>\n",
       "      <td>0</td>\n",
       "      <td>0</td>\n",
       "      <td>1</td>\n",
       "      <td>0</td>\n",
       "      <td>0</td>\n",
       "      <td>0</td>\n",
       "      <td>0</td>\n",
       "      <td>0</td>\n",
       "    </tr>\n",
       "  </tbody>\n",
       "</table>\n",
       "<p>5 rows × 34 columns</p>\n",
       "</div>"
      ],
      "text/plain": [
       "   Relief_Amplitude  Dist_to_River       TWI  Rainfall  Clay_Content  \\\n",
       "0          0.142857       0.518128  0.165104  0.587614      0.785714   \n",
       "1          0.000000       0.128572  0.571387  0.344053      0.690476   \n",
       "2          0.061224       0.164325  0.149176  0.698571      0.761905   \n",
       "3          0.102041       0.433816  0.446274  0.324463      0.714286   \n",
       "4          0.122449       0.628029  0.320437  0.359155      0.738095   \n",
       "\n",
       "        STI       TRI       TPI           SPI      NDVI  ...  \\\n",
       "0  0.000000  0.280636  0.580849  0.000000e+00  0.700116  ...   \n",
       "1  0.000000  0.000000  0.501084  5.680000e-06  0.437787  ...   \n",
       "2  0.000000  0.177382  0.533338  0.000000e+00  0.601291  ...   \n",
       "3  0.000881  0.263824  0.460808  3.050000e-05  0.616554  ...   \n",
       "4  0.000070  0.327950  0.456793  7.680000e-07  0.572900  ...   \n",
       "\n",
       "   Lithology_Fe_Ox_S_Si_Cl  Lithology_S_Si_Cl  Lithology_S_Si_Cl_wi_Cal_Co  \\\n",
       "0                        0                  1                            0   \n",
       "1                        0                  1                            0   \n",
       "2                        0                  1                            0   \n",
       "3                        0                  0                            0   \n",
       "4                        0                  0                            0   \n",
       "\n",
       "   Lithology_S_Si_Gr  LULC_Agricultural_Field LULC_Bare_Ground  \\\n",
       "0                  0                        1                0   \n",
       "1                  0                        1                0   \n",
       "2                  0                        1                0   \n",
       "3                  0                        1                0   \n",
       "4                  0                        1                0   \n",
       "\n",
       "   LULC_Built_UP_Area  LULC_Natural_Vegetation  LULC_Waterbodies  Flood  \n",
       "0                   0                        0                 0      1  \n",
       "1                   0                        0                 0      1  \n",
       "2                   0                        0                 0      1  \n",
       "3                   0                        0                 0      1  \n",
       "4                   0                        0                 0      0  \n",
       "\n",
       "[5 rows x 34 columns]"
      ]
     },
     "execution_count": 3,
     "metadata": {},
     "output_type": "execute_result"
    }
   ],
   "source": [
    "training_df.head()"
   ]
  },
  {
   "cell_type": "code",
   "execution_count": 4,
   "id": "00b354c4-0de9-4875-8162-4e8dbada3be0",
   "metadata": {
    "tags": []
   },
   "outputs": [
    {
     "data": {
      "text/plain": [
       "array([ True,  True,  True,  True,  True,  True,  True,  True,  True,\n",
       "        True,  True,  True,  True,  True,  True,  True,  True,  True,\n",
       "        True,  True,  True,  True,  True,  True,  True,  True,  True,\n",
       "        True,  True,  True,  True,  True,  True])"
      ]
     },
     "execution_count": 4,
     "metadata": {},
     "output_type": "execute_result"
    }
   ],
   "source": [
    "# Drop the geometry columns\n",
    "training_df.drop(\"geometry\", axis=1, inplace=True)\n",
    "testing_df.drop(\"geometry\", axis=1, inplace=True)\n",
    "\n",
    "training_df.columns == testing_df.columns"
   ]
  },
  {
   "cell_type": "code",
   "execution_count": 5,
   "id": "44f7c4d0-5e68-45c8-aced-dcb0d1977d45",
   "metadata": {
    "tags": []
   },
   "outputs": [
    {
     "data": {
      "text/plain": [
       "(1582, 33)"
      ]
     },
     "execution_count": 5,
     "metadata": {},
     "output_type": "execute_result"
    }
   ],
   "source": [
    "training_df.shape"
   ]
  },
  {
   "cell_type": "code",
   "execution_count": 6,
   "id": "e8d56c84-020a-4b53-9839-e95ebfe9155a",
   "metadata": {
    "tags": []
   },
   "outputs": [
    {
     "data": {
      "text/plain": [
       "0"
      ]
     },
     "execution_count": 6,
     "metadata": {},
     "output_type": "execute_result"
    }
   ],
   "source": [
    "# Check for the null values\n",
    "training_df.isnull().sum().sum()"
   ]
  },
  {
   "cell_type": "code",
   "execution_count": 7,
   "id": "f076263f-32d7-4505-8cee-ed9eef617d3d",
   "metadata": {
    "tags": []
   },
   "outputs": [
    {
     "data": {
      "text/plain": [
       "0"
      ]
     },
     "execution_count": 7,
     "metadata": {},
     "output_type": "execute_result"
    }
   ],
   "source": [
    "testing_df.isnull().sum().sum()"
   ]
  },
  {
   "cell_type": "markdown",
   "id": "63515cc3-143e-4a9e-b23b-d8976c1572d1",
   "metadata": {},
   "source": [
    "## **Specify the Train Test Data**"
   ]
  },
  {
   "cell_type": "code",
   "execution_count": 8,
   "id": "e59e047f-488c-4491-876f-f0358db972a1",
   "metadata": {
    "tags": []
   },
   "outputs": [
    {
     "data": {
      "text/plain": [
       "((1582, 32), (678, 32))"
      ]
     },
     "execution_count": 8,
     "metadata": {},
     "output_type": "execute_result"
    }
   ],
   "source": [
    "X_train, y_train = training_df.drop(\"Flood\", axis=1), training_df[\"Flood\"]\n",
    "X_test, y_test = testing_df.drop(\"Flood\", axis=1), testing_df[\"Flood\"]\n",
    "\n",
    "X_train.shape, X_test.shape"
   ]
  },
  {
   "cell_type": "code",
   "execution_count": 9,
   "id": "8eb42a72-7641-4014-b6d9-e7946e5818b0",
   "metadata": {
    "tags": []
   },
   "outputs": [
    {
     "data": {
      "text/html": [
       "<div>\n",
       "<style scoped>\n",
       "    .dataframe tbody tr th:only-of-type {\n",
       "        vertical-align: middle;\n",
       "    }\n",
       "\n",
       "    .dataframe tbody tr th {\n",
       "        vertical-align: top;\n",
       "    }\n",
       "\n",
       "    .dataframe thead th {\n",
       "        text-align: right;\n",
       "    }\n",
       "</style>\n",
       "<table border=\"1\" class=\"dataframe\">\n",
       "  <thead>\n",
       "    <tr style=\"text-align: right;\">\n",
       "      <th></th>\n",
       "      <th>Relief_Amplitude</th>\n",
       "      <th>Dist_to_River</th>\n",
       "      <th>TWI</th>\n",
       "      <th>Rainfall</th>\n",
       "      <th>Clay_Content</th>\n",
       "      <th>STI</th>\n",
       "      <th>TRI</th>\n",
       "      <th>TPI</th>\n",
       "      <th>SPI</th>\n",
       "      <th>NDVI</th>\n",
       "      <th>...</th>\n",
       "      <th>Lithology_Cl_wi_S_Si_Ir_N</th>\n",
       "      <th>Lithology_Fe_Ox_S_Si_Cl</th>\n",
       "      <th>Lithology_S_Si_Cl</th>\n",
       "      <th>Lithology_S_Si_Cl_wi_Cal_Co</th>\n",
       "      <th>Lithology_S_Si_Gr</th>\n",
       "      <th>LULC_Agricultural_Field</th>\n",
       "      <th>LULC_Bare_Ground</th>\n",
       "      <th>LULC_Built_UP_Area</th>\n",
       "      <th>LULC_Natural_Vegetation</th>\n",
       "      <th>LULC_Waterbodies</th>\n",
       "    </tr>\n",
       "  </thead>\n",
       "  <tbody>\n",
       "    <tr>\n",
       "      <th>0</th>\n",
       "      <td>0.142857</td>\n",
       "      <td>0.518128</td>\n",
       "      <td>0.165104</td>\n",
       "      <td>0.587614</td>\n",
       "      <td>0.785714</td>\n",
       "      <td>0.000000</td>\n",
       "      <td>0.280636</td>\n",
       "      <td>0.580849</td>\n",
       "      <td>0.000000e+00</td>\n",
       "      <td>0.700116</td>\n",
       "      <td>...</td>\n",
       "      <td>0</td>\n",
       "      <td>0</td>\n",
       "      <td>1</td>\n",
       "      <td>0</td>\n",
       "      <td>0</td>\n",
       "      <td>1</td>\n",
       "      <td>0</td>\n",
       "      <td>0</td>\n",
       "      <td>0</td>\n",
       "      <td>0</td>\n",
       "    </tr>\n",
       "    <tr>\n",
       "      <th>1</th>\n",
       "      <td>0.000000</td>\n",
       "      <td>0.128572</td>\n",
       "      <td>0.571387</td>\n",
       "      <td>0.344053</td>\n",
       "      <td>0.690476</td>\n",
       "      <td>0.000000</td>\n",
       "      <td>0.000000</td>\n",
       "      <td>0.501084</td>\n",
       "      <td>5.680000e-06</td>\n",
       "      <td>0.437787</td>\n",
       "      <td>...</td>\n",
       "      <td>0</td>\n",
       "      <td>0</td>\n",
       "      <td>1</td>\n",
       "      <td>0</td>\n",
       "      <td>0</td>\n",
       "      <td>1</td>\n",
       "      <td>0</td>\n",
       "      <td>0</td>\n",
       "      <td>0</td>\n",
       "      <td>0</td>\n",
       "    </tr>\n",
       "    <tr>\n",
       "      <th>2</th>\n",
       "      <td>0.061224</td>\n",
       "      <td>0.164325</td>\n",
       "      <td>0.149176</td>\n",
       "      <td>0.698571</td>\n",
       "      <td>0.761905</td>\n",
       "      <td>0.000000</td>\n",
       "      <td>0.177382</td>\n",
       "      <td>0.533338</td>\n",
       "      <td>0.000000e+00</td>\n",
       "      <td>0.601291</td>\n",
       "      <td>...</td>\n",
       "      <td>0</td>\n",
       "      <td>0</td>\n",
       "      <td>1</td>\n",
       "      <td>0</td>\n",
       "      <td>0</td>\n",
       "      <td>1</td>\n",
       "      <td>0</td>\n",
       "      <td>0</td>\n",
       "      <td>0</td>\n",
       "      <td>0</td>\n",
       "    </tr>\n",
       "    <tr>\n",
       "      <th>3</th>\n",
       "      <td>0.102041</td>\n",
       "      <td>0.433816</td>\n",
       "      <td>0.446274</td>\n",
       "      <td>0.324463</td>\n",
       "      <td>0.714286</td>\n",
       "      <td>0.000881</td>\n",
       "      <td>0.263824</td>\n",
       "      <td>0.460808</td>\n",
       "      <td>3.050000e-05</td>\n",
       "      <td>0.616554</td>\n",
       "      <td>...</td>\n",
       "      <td>1</td>\n",
       "      <td>0</td>\n",
       "      <td>0</td>\n",
       "      <td>0</td>\n",
       "      <td>0</td>\n",
       "      <td>1</td>\n",
       "      <td>0</td>\n",
       "      <td>0</td>\n",
       "      <td>0</td>\n",
       "      <td>0</td>\n",
       "    </tr>\n",
       "    <tr>\n",
       "      <th>4</th>\n",
       "      <td>0.122449</td>\n",
       "      <td>0.628029</td>\n",
       "      <td>0.320437</td>\n",
       "      <td>0.359155</td>\n",
       "      <td>0.738095</td>\n",
       "      <td>0.000070</td>\n",
       "      <td>0.327950</td>\n",
       "      <td>0.456793</td>\n",
       "      <td>7.680000e-07</td>\n",
       "      <td>0.572900</td>\n",
       "      <td>...</td>\n",
       "      <td>1</td>\n",
       "      <td>0</td>\n",
       "      <td>0</td>\n",
       "      <td>0</td>\n",
       "      <td>0</td>\n",
       "      <td>1</td>\n",
       "      <td>0</td>\n",
       "      <td>0</td>\n",
       "      <td>0</td>\n",
       "      <td>0</td>\n",
       "    </tr>\n",
       "  </tbody>\n",
       "</table>\n",
       "<p>5 rows × 32 columns</p>\n",
       "</div>"
      ],
      "text/plain": [
       "   Relief_Amplitude  Dist_to_River       TWI  Rainfall  Clay_Content  \\\n",
       "0          0.142857       0.518128  0.165104  0.587614      0.785714   \n",
       "1          0.000000       0.128572  0.571387  0.344053      0.690476   \n",
       "2          0.061224       0.164325  0.149176  0.698571      0.761905   \n",
       "3          0.102041       0.433816  0.446274  0.324463      0.714286   \n",
       "4          0.122449       0.628029  0.320437  0.359155      0.738095   \n",
       "\n",
       "        STI       TRI       TPI           SPI      NDVI  ...  \\\n",
       "0  0.000000  0.280636  0.580849  0.000000e+00  0.700116  ...   \n",
       "1  0.000000  0.000000  0.501084  5.680000e-06  0.437787  ...   \n",
       "2  0.000000  0.177382  0.533338  0.000000e+00  0.601291  ...   \n",
       "3  0.000881  0.263824  0.460808  3.050000e-05  0.616554  ...   \n",
       "4  0.000070  0.327950  0.456793  7.680000e-07  0.572900  ...   \n",
       "\n",
       "   Lithology_Cl_wi_S_Si_Ir_N  Lithology_Fe_Ox_S_Si_Cl  Lithology_S_Si_Cl  \\\n",
       "0                          0                        0                  1   \n",
       "1                          0                        0                  1   \n",
       "2                          0                        0                  1   \n",
       "3                          1                        0                  0   \n",
       "4                          1                        0                  0   \n",
       "\n",
       "   Lithology_S_Si_Cl_wi_Cal_Co  Lithology_S_Si_Gr  LULC_Agricultural_Field  \\\n",
       "0                            0                  0                        1   \n",
       "1                            0                  0                        1   \n",
       "2                            0                  0                        1   \n",
       "3                            0                  0                        1   \n",
       "4                            0                  0                        1   \n",
       "\n",
       "   LULC_Bare_Ground  LULC_Built_UP_Area  LULC_Natural_Vegetation  \\\n",
       "0                 0                   0                        0   \n",
       "1                 0                   0                        0   \n",
       "2                 0                   0                        0   \n",
       "3                 0                   0                        0   \n",
       "4                 0                   0                        0   \n",
       "\n",
       "   LULC_Waterbodies  \n",
       "0                 0  \n",
       "1                 0  \n",
       "2                 0  \n",
       "3                 0  \n",
       "4                 0  \n",
       "\n",
       "[5 rows x 32 columns]"
      ]
     },
     "execution_count": 9,
     "metadata": {},
     "output_type": "execute_result"
    }
   ],
   "source": [
    "X_train.head()"
   ]
  },
  {
   "cell_type": "code",
   "execution_count": 10,
   "id": "b399f75c-1f99-4b7f-9f57-8a707c195538",
   "metadata": {
    "tags": []
   },
   "outputs": [],
   "source": [
    "# Change the datatype into float\n",
    "X_train = X_train.astype(float)\n",
    "X_test = X_test.astype(float)"
   ]
  },
  {
   "cell_type": "markdown",
   "id": "da41476d-9d97-48a8-9d23-d9ec6300a78b",
   "metadata": {},
   "source": [
    "## **Feature Selection using Information Gain**"
   ]
  },
  {
   "cell_type": "code",
   "execution_count": 11,
   "id": "be9a28b0-bb4a-40e9-b8b8-a7d9b66ad0b9",
   "metadata": {
    "tags": []
   },
   "outputs": [],
   "source": [
    "# Select the important features\n",
    "selected_features = ['Dist_to_River', 'TWI', 'Rainfall', 'Clay_Content', 'TRI', 'NDVI',\n",
    "                     'MFI', 'Elevation', 'MNDWI', 'Drainage_Density', 'Geomorphology_Active_Flood_Plain',\n",
    "                     'Geomorphology_Older_Alluvial_Plain', 'Geomorphology_Older_Flood_Plain',\n",
    "                     'Lithology_Cl_wi_S_Si_Ir_N', 'Lithology_Fe_Ox_S_Si_Cl',\n",
    "                     'Lithology_S_Si_Cl', 'Lithology_S_Si_Cl_wi_Cal_Co',\n",
    "                     'LULC_Agricultural_Field', 'LULC_Built_UP_Area',\n",
    "                     'LULC_Natural_Vegetation']"
   ]
  },
  {
   "cell_type": "code",
   "execution_count": 12,
   "id": "ad1cf2be-6c47-48e6-b025-287fbb75ea62",
   "metadata": {
    "tags": []
   },
   "outputs": [
    {
     "data": {
      "text/html": [
       "<div>\n",
       "<style scoped>\n",
       "    .dataframe tbody tr th:only-of-type {\n",
       "        vertical-align: middle;\n",
       "    }\n",
       "\n",
       "    .dataframe tbody tr th {\n",
       "        vertical-align: top;\n",
       "    }\n",
       "\n",
       "    .dataframe thead th {\n",
       "        text-align: right;\n",
       "    }\n",
       "</style>\n",
       "<table border=\"1\" class=\"dataframe\">\n",
       "  <thead>\n",
       "    <tr style=\"text-align: right;\">\n",
       "      <th></th>\n",
       "      <th>Dist_to_River</th>\n",
       "      <th>TWI</th>\n",
       "      <th>Rainfall</th>\n",
       "      <th>Clay_Content</th>\n",
       "      <th>TRI</th>\n",
       "      <th>NDVI</th>\n",
       "      <th>MFI</th>\n",
       "      <th>Elevation</th>\n",
       "      <th>MNDWI</th>\n",
       "      <th>Drainage_Density</th>\n",
       "      <th>Geomorphology_Active_Flood_Plain</th>\n",
       "      <th>Geomorphology_Older_Alluvial_Plain</th>\n",
       "      <th>Geomorphology_Older_Flood_Plain</th>\n",
       "      <th>Lithology_Cl_wi_S_Si_Ir_N</th>\n",
       "      <th>Lithology_Fe_Ox_S_Si_Cl</th>\n",
       "      <th>Lithology_S_Si_Cl</th>\n",
       "      <th>Lithology_S_Si_Cl_wi_Cal_Co</th>\n",
       "      <th>LULC_Agricultural_Field</th>\n",
       "      <th>LULC_Built_UP_Area</th>\n",
       "      <th>LULC_Natural_Vegetation</th>\n",
       "    </tr>\n",
       "  </thead>\n",
       "  <tbody>\n",
       "    <tr>\n",
       "      <th>0</th>\n",
       "      <td>0.518128</td>\n",
       "      <td>0.165104</td>\n",
       "      <td>0.587614</td>\n",
       "      <td>0.785714</td>\n",
       "      <td>0.280636</td>\n",
       "      <td>0.700116</td>\n",
       "      <td>0.494337</td>\n",
       "      <td>0.346667</td>\n",
       "      <td>0.409042</td>\n",
       "      <td>0.197955</td>\n",
       "      <td>1.0</td>\n",
       "      <td>0.0</td>\n",
       "      <td>0.0</td>\n",
       "      <td>0.0</td>\n",
       "      <td>0.0</td>\n",
       "      <td>1.0</td>\n",
       "      <td>0.0</td>\n",
       "      <td>1.0</td>\n",
       "      <td>0.0</td>\n",
       "      <td>0.0</td>\n",
       "    </tr>\n",
       "    <tr>\n",
       "      <th>1</th>\n",
       "      <td>0.128572</td>\n",
       "      <td>0.571387</td>\n",
       "      <td>0.344053</td>\n",
       "      <td>0.690476</td>\n",
       "      <td>0.000000</td>\n",
       "      <td>0.437787</td>\n",
       "      <td>0.326095</td>\n",
       "      <td>0.120000</td>\n",
       "      <td>0.595915</td>\n",
       "      <td>0.695821</td>\n",
       "      <td>0.0</td>\n",
       "      <td>1.0</td>\n",
       "      <td>0.0</td>\n",
       "      <td>0.0</td>\n",
       "      <td>0.0</td>\n",
       "      <td>1.0</td>\n",
       "      <td>0.0</td>\n",
       "      <td>1.0</td>\n",
       "      <td>0.0</td>\n",
       "      <td>0.0</td>\n",
       "    </tr>\n",
       "    <tr>\n",
       "      <th>2</th>\n",
       "      <td>0.164325</td>\n",
       "      <td>0.149176</td>\n",
       "      <td>0.698571</td>\n",
       "      <td>0.761905</td>\n",
       "      <td>0.177382</td>\n",
       "      <td>0.601291</td>\n",
       "      <td>0.628901</td>\n",
       "      <td>0.280000</td>\n",
       "      <td>0.382371</td>\n",
       "      <td>0.492745</td>\n",
       "      <td>0.0</td>\n",
       "      <td>0.0</td>\n",
       "      <td>1.0</td>\n",
       "      <td>0.0</td>\n",
       "      <td>0.0</td>\n",
       "      <td>1.0</td>\n",
       "      <td>0.0</td>\n",
       "      <td>1.0</td>\n",
       "      <td>0.0</td>\n",
       "      <td>0.0</td>\n",
       "    </tr>\n",
       "    <tr>\n",
       "      <th>3</th>\n",
       "      <td>0.433816</td>\n",
       "      <td>0.446274</td>\n",
       "      <td>0.324463</td>\n",
       "      <td>0.714286</td>\n",
       "      <td>0.263824</td>\n",
       "      <td>0.616554</td>\n",
       "      <td>0.316538</td>\n",
       "      <td>0.386667</td>\n",
       "      <td>0.307860</td>\n",
       "      <td>0.212729</td>\n",
       "      <td>0.0</td>\n",
       "      <td>1.0</td>\n",
       "      <td>0.0</td>\n",
       "      <td>1.0</td>\n",
       "      <td>0.0</td>\n",
       "      <td>0.0</td>\n",
       "      <td>0.0</td>\n",
       "      <td>1.0</td>\n",
       "      <td>0.0</td>\n",
       "      <td>0.0</td>\n",
       "    </tr>\n",
       "    <tr>\n",
       "      <th>4</th>\n",
       "      <td>0.628029</td>\n",
       "      <td>0.320437</td>\n",
       "      <td>0.359155</td>\n",
       "      <td>0.738095</td>\n",
       "      <td>0.327950</td>\n",
       "      <td>0.572900</td>\n",
       "      <td>0.335859</td>\n",
       "      <td>0.573333</td>\n",
       "      <td>0.437553</td>\n",
       "      <td>0.028424</td>\n",
       "      <td>0.0</td>\n",
       "      <td>1.0</td>\n",
       "      <td>0.0</td>\n",
       "      <td>1.0</td>\n",
       "      <td>0.0</td>\n",
       "      <td>0.0</td>\n",
       "      <td>0.0</td>\n",
       "      <td>1.0</td>\n",
       "      <td>0.0</td>\n",
       "      <td>0.0</td>\n",
       "    </tr>\n",
       "    <tr>\n",
       "      <th>...</th>\n",
       "      <td>...</td>\n",
       "      <td>...</td>\n",
       "      <td>...</td>\n",
       "      <td>...</td>\n",
       "      <td>...</td>\n",
       "      <td>...</td>\n",
       "      <td>...</td>\n",
       "      <td>...</td>\n",
       "      <td>...</td>\n",
       "      <td>...</td>\n",
       "      <td>...</td>\n",
       "      <td>...</td>\n",
       "      <td>...</td>\n",
       "      <td>...</td>\n",
       "      <td>...</td>\n",
       "      <td>...</td>\n",
       "      <td>...</td>\n",
       "      <td>...</td>\n",
       "      <td>...</td>\n",
       "      <td>...</td>\n",
       "    </tr>\n",
       "    <tr>\n",
       "      <th>1577</th>\n",
       "      <td>0.247812</td>\n",
       "      <td>0.458075</td>\n",
       "      <td>0.339795</td>\n",
       "      <td>0.738095</td>\n",
       "      <td>0.167428</td>\n",
       "      <td>0.734888</td>\n",
       "      <td>0.337946</td>\n",
       "      <td>0.213333</td>\n",
       "      <td>0.430147</td>\n",
       "      <td>0.341095</td>\n",
       "      <td>1.0</td>\n",
       "      <td>0.0</td>\n",
       "      <td>0.0</td>\n",
       "      <td>0.0</td>\n",
       "      <td>0.0</td>\n",
       "      <td>1.0</td>\n",
       "      <td>0.0</td>\n",
       "      <td>0.0</td>\n",
       "      <td>1.0</td>\n",
       "      <td>0.0</td>\n",
       "    </tr>\n",
       "    <tr>\n",
       "      <th>1578</th>\n",
       "      <td>0.373099</td>\n",
       "      <td>0.441171</td>\n",
       "      <td>0.752537</td>\n",
       "      <td>0.785714</td>\n",
       "      <td>0.213931</td>\n",
       "      <td>0.543738</td>\n",
       "      <td>0.755592</td>\n",
       "      <td>0.280000</td>\n",
       "      <td>0.279368</td>\n",
       "      <td>0.243732</td>\n",
       "      <td>0.0</td>\n",
       "      <td>0.0</td>\n",
       "      <td>0.0</td>\n",
       "      <td>0.0</td>\n",
       "      <td>0.0</td>\n",
       "      <td>1.0</td>\n",
       "      <td>0.0</td>\n",
       "      <td>0.0</td>\n",
       "      <td>1.0</td>\n",
       "      <td>0.0</td>\n",
       "    </tr>\n",
       "    <tr>\n",
       "      <th>1579</th>\n",
       "      <td>0.043243</td>\n",
       "      <td>0.521885</td>\n",
       "      <td>0.472152</td>\n",
       "      <td>0.785714</td>\n",
       "      <td>0.000000</td>\n",
       "      <td>0.680051</td>\n",
       "      <td>0.413672</td>\n",
       "      <td>0.240000</td>\n",
       "      <td>0.483247</td>\n",
       "      <td>0.091759</td>\n",
       "      <td>0.0</td>\n",
       "      <td>0.0</td>\n",
       "      <td>0.0</td>\n",
       "      <td>0.0</td>\n",
       "      <td>0.0</td>\n",
       "      <td>1.0</td>\n",
       "      <td>0.0</td>\n",
       "      <td>0.0</td>\n",
       "      <td>0.0</td>\n",
       "      <td>1.0</td>\n",
       "    </tr>\n",
       "    <tr>\n",
       "      <th>1580</th>\n",
       "      <td>0.043243</td>\n",
       "      <td>0.218019</td>\n",
       "      <td>0.160826</td>\n",
       "      <td>0.761905</td>\n",
       "      <td>0.088422</td>\n",
       "      <td>0.757050</td>\n",
       "      <td>0.160709</td>\n",
       "      <td>0.173333</td>\n",
       "      <td>0.509301</td>\n",
       "      <td>0.189769</td>\n",
       "      <td>1.0</td>\n",
       "      <td>0.0</td>\n",
       "      <td>0.0</td>\n",
       "      <td>0.0</td>\n",
       "      <td>0.0</td>\n",
       "      <td>1.0</td>\n",
       "      <td>0.0</td>\n",
       "      <td>1.0</td>\n",
       "      <td>0.0</td>\n",
       "      <td>0.0</td>\n",
       "    </tr>\n",
       "    <tr>\n",
       "      <th>1581</th>\n",
       "      <td>0.214829</td>\n",
       "      <td>0.417788</td>\n",
       "      <td>0.379193</td>\n",
       "      <td>0.785714</td>\n",
       "      <td>0.170810</td>\n",
       "      <td>0.734985</td>\n",
       "      <td>0.363702</td>\n",
       "      <td>0.213333</td>\n",
       "      <td>0.439793</td>\n",
       "      <td>0.571712</td>\n",
       "      <td>0.0</td>\n",
       "      <td>0.0</td>\n",
       "      <td>1.0</td>\n",
       "      <td>0.0</td>\n",
       "      <td>0.0</td>\n",
       "      <td>1.0</td>\n",
       "      <td>0.0</td>\n",
       "      <td>1.0</td>\n",
       "      <td>0.0</td>\n",
       "      <td>0.0</td>\n",
       "    </tr>\n",
       "  </tbody>\n",
       "</table>\n",
       "<p>1582 rows × 20 columns</p>\n",
       "</div>"
      ],
      "text/plain": [
       "      Dist_to_River       TWI  Rainfall  Clay_Content       TRI      NDVI  \\\n",
       "0          0.518128  0.165104  0.587614      0.785714  0.280636  0.700116   \n",
       "1          0.128572  0.571387  0.344053      0.690476  0.000000  0.437787   \n",
       "2          0.164325  0.149176  0.698571      0.761905  0.177382  0.601291   \n",
       "3          0.433816  0.446274  0.324463      0.714286  0.263824  0.616554   \n",
       "4          0.628029  0.320437  0.359155      0.738095  0.327950  0.572900   \n",
       "...             ...       ...       ...           ...       ...       ...   \n",
       "1577       0.247812  0.458075  0.339795      0.738095  0.167428  0.734888   \n",
       "1578       0.373099  0.441171  0.752537      0.785714  0.213931  0.543738   \n",
       "1579       0.043243  0.521885  0.472152      0.785714  0.000000  0.680051   \n",
       "1580       0.043243  0.218019  0.160826      0.761905  0.088422  0.757050   \n",
       "1581       0.214829  0.417788  0.379193      0.785714  0.170810  0.734985   \n",
       "\n",
       "           MFI  Elevation     MNDWI  Drainage_Density  \\\n",
       "0     0.494337   0.346667  0.409042          0.197955   \n",
       "1     0.326095   0.120000  0.595915          0.695821   \n",
       "2     0.628901   0.280000  0.382371          0.492745   \n",
       "3     0.316538   0.386667  0.307860          0.212729   \n",
       "4     0.335859   0.573333  0.437553          0.028424   \n",
       "...        ...        ...       ...               ...   \n",
       "1577  0.337946   0.213333  0.430147          0.341095   \n",
       "1578  0.755592   0.280000  0.279368          0.243732   \n",
       "1579  0.413672   0.240000  0.483247          0.091759   \n",
       "1580  0.160709   0.173333  0.509301          0.189769   \n",
       "1581  0.363702   0.213333  0.439793          0.571712   \n",
       "\n",
       "      Geomorphology_Active_Flood_Plain  Geomorphology_Older_Alluvial_Plain  \\\n",
       "0                                  1.0                                 0.0   \n",
       "1                                  0.0                                 1.0   \n",
       "2                                  0.0                                 0.0   \n",
       "3                                  0.0                                 1.0   \n",
       "4                                  0.0                                 1.0   \n",
       "...                                ...                                 ...   \n",
       "1577                               1.0                                 0.0   \n",
       "1578                               0.0                                 0.0   \n",
       "1579                               0.0                                 0.0   \n",
       "1580                               1.0                                 0.0   \n",
       "1581                               0.0                                 0.0   \n",
       "\n",
       "      Geomorphology_Older_Flood_Plain  Lithology_Cl_wi_S_Si_Ir_N  \\\n",
       "0                                 0.0                        0.0   \n",
       "1                                 0.0                        0.0   \n",
       "2                                 1.0                        0.0   \n",
       "3                                 0.0                        1.0   \n",
       "4                                 0.0                        1.0   \n",
       "...                               ...                        ...   \n",
       "1577                              0.0                        0.0   \n",
       "1578                              0.0                        0.0   \n",
       "1579                              0.0                        0.0   \n",
       "1580                              0.0                        0.0   \n",
       "1581                              1.0                        0.0   \n",
       "\n",
       "      Lithology_Fe_Ox_S_Si_Cl  Lithology_S_Si_Cl  Lithology_S_Si_Cl_wi_Cal_Co  \\\n",
       "0                         0.0                1.0                          0.0   \n",
       "1                         0.0                1.0                          0.0   \n",
       "2                         0.0                1.0                          0.0   \n",
       "3                         0.0                0.0                          0.0   \n",
       "4                         0.0                0.0                          0.0   \n",
       "...                       ...                ...                          ...   \n",
       "1577                      0.0                1.0                          0.0   \n",
       "1578                      0.0                1.0                          0.0   \n",
       "1579                      0.0                1.0                          0.0   \n",
       "1580                      0.0                1.0                          0.0   \n",
       "1581                      0.0                1.0                          0.0   \n",
       "\n",
       "      LULC_Agricultural_Field  LULC_Built_UP_Area  LULC_Natural_Vegetation  \n",
       "0                         1.0                 0.0                      0.0  \n",
       "1                         1.0                 0.0                      0.0  \n",
       "2                         1.0                 0.0                      0.0  \n",
       "3                         1.0                 0.0                      0.0  \n",
       "4                         1.0                 0.0                      0.0  \n",
       "...                       ...                 ...                      ...  \n",
       "1577                      0.0                 1.0                      0.0  \n",
       "1578                      0.0                 1.0                      0.0  \n",
       "1579                      0.0                 0.0                      1.0  \n",
       "1580                      1.0                 0.0                      0.0  \n",
       "1581                      1.0                 0.0                      0.0  \n",
       "\n",
       "[1582 rows x 20 columns]"
      ]
     },
     "execution_count": 12,
     "metadata": {},
     "output_type": "execute_result"
    }
   ],
   "source": [
    "X_train = X_train[selected_features]\n",
    "X_train"
   ]
  },
  {
   "cell_type": "code",
   "execution_count": 13,
   "id": "a54b04e7-9e40-421f-b7d3-efb86641e9f5",
   "metadata": {
    "tags": []
   },
   "outputs": [
    {
     "data": {
      "text/html": [
       "<div>\n",
       "<style scoped>\n",
       "    .dataframe tbody tr th:only-of-type {\n",
       "        vertical-align: middle;\n",
       "    }\n",
       "\n",
       "    .dataframe tbody tr th {\n",
       "        vertical-align: top;\n",
       "    }\n",
       "\n",
       "    .dataframe thead th {\n",
       "        text-align: right;\n",
       "    }\n",
       "</style>\n",
       "<table border=\"1\" class=\"dataframe\">\n",
       "  <thead>\n",
       "    <tr style=\"text-align: right;\">\n",
       "      <th></th>\n",
       "      <th>Dist_to_River</th>\n",
       "      <th>TWI</th>\n",
       "      <th>Rainfall</th>\n",
       "      <th>Clay_Content</th>\n",
       "      <th>TRI</th>\n",
       "      <th>NDVI</th>\n",
       "      <th>MFI</th>\n",
       "      <th>Elevation</th>\n",
       "      <th>MNDWI</th>\n",
       "      <th>Drainage_Density</th>\n",
       "      <th>Geomorphology_Active_Flood_Plain</th>\n",
       "      <th>Geomorphology_Older_Alluvial_Plain</th>\n",
       "      <th>Geomorphology_Older_Flood_Plain</th>\n",
       "      <th>Lithology_Cl_wi_S_Si_Ir_N</th>\n",
       "      <th>Lithology_Fe_Ox_S_Si_Cl</th>\n",
       "      <th>Lithology_S_Si_Cl</th>\n",
       "      <th>Lithology_S_Si_Cl_wi_Cal_Co</th>\n",
       "      <th>LULC_Agricultural_Field</th>\n",
       "      <th>LULC_Built_UP_Area</th>\n",
       "      <th>LULC_Natural_Vegetation</th>\n",
       "    </tr>\n",
       "  </thead>\n",
       "  <tbody>\n",
       "    <tr>\n",
       "      <th>0</th>\n",
       "      <td>0.017297</td>\n",
       "      <td>0.520829</td>\n",
       "      <td>0.088173</td>\n",
       "      <td>0.666667</td>\n",
       "      <td>0.270604</td>\n",
       "      <td>0.713929</td>\n",
       "      <td>0.088429</td>\n",
       "      <td>0.253333</td>\n",
       "      <td>0.440593</td>\n",
       "      <td>0.190851</td>\n",
       "      <td>1.0</td>\n",
       "      <td>0.0</td>\n",
       "      <td>0.0</td>\n",
       "      <td>0.0</td>\n",
       "      <td>0.0</td>\n",
       "      <td>1.0</td>\n",
       "      <td>0.0</td>\n",
       "      <td>1.0</td>\n",
       "      <td>0.0</td>\n",
       "      <td>0.0</td>\n",
       "    </tr>\n",
       "    <tr>\n",
       "      <th>1</th>\n",
       "      <td>0.008649</td>\n",
       "      <td>0.570254</td>\n",
       "      <td>0.871880</td>\n",
       "      <td>0.761905</td>\n",
       "      <td>0.138092</td>\n",
       "      <td>0.395510</td>\n",
       "      <td>0.854243</td>\n",
       "      <td>0.253333</td>\n",
       "      <td>0.250467</td>\n",
       "      <td>0.622337</td>\n",
       "      <td>0.0</td>\n",
       "      <td>1.0</td>\n",
       "      <td>0.0</td>\n",
       "      <td>0.0</td>\n",
       "      <td>0.0</td>\n",
       "      <td>1.0</td>\n",
       "      <td>0.0</td>\n",
       "      <td>1.0</td>\n",
       "      <td>0.0</td>\n",
       "      <td>0.0</td>\n",
       "    </tr>\n",
       "    <tr>\n",
       "      <th>2</th>\n",
       "      <td>0.079737</td>\n",
       "      <td>0.170232</td>\n",
       "      <td>0.475129</td>\n",
       "      <td>0.761905</td>\n",
       "      <td>0.237181</td>\n",
       "      <td>0.373748</td>\n",
       "      <td>0.427817</td>\n",
       "      <td>0.320000</td>\n",
       "      <td>0.398804</td>\n",
       "      <td>0.711552</td>\n",
       "      <td>0.0</td>\n",
       "      <td>0.0</td>\n",
       "      <td>1.0</td>\n",
       "      <td>0.0</td>\n",
       "      <td>0.0</td>\n",
       "      <td>0.0</td>\n",
       "      <td>0.0</td>\n",
       "      <td>0.0</td>\n",
       "      <td>1.0</td>\n",
       "      <td>0.0</td>\n",
       "    </tr>\n",
       "    <tr>\n",
       "      <th>3</th>\n",
       "      <td>0.017297</td>\n",
       "      <td>0.567649</td>\n",
       "      <td>0.370257</td>\n",
       "      <td>0.690476</td>\n",
       "      <td>0.094671</td>\n",
       "      <td>0.735108</td>\n",
       "      <td>0.395295</td>\n",
       "      <td>0.240000</td>\n",
       "      <td>0.452172</td>\n",
       "      <td>0.368527</td>\n",
       "      <td>1.0</td>\n",
       "      <td>0.0</td>\n",
       "      <td>0.0</td>\n",
       "      <td>0.0</td>\n",
       "      <td>0.0</td>\n",
       "      <td>1.0</td>\n",
       "      <td>0.0</td>\n",
       "      <td>1.0</td>\n",
       "      <td>0.0</td>\n",
       "      <td>0.0</td>\n",
       "    </tr>\n",
       "    <tr>\n",
       "      <th>4</th>\n",
       "      <td>0.453789</td>\n",
       "      <td>0.506040</td>\n",
       "      <td>0.605048</td>\n",
       "      <td>0.785714</td>\n",
       "      <td>0.000000</td>\n",
       "      <td>0.459768</td>\n",
       "      <td>0.543641</td>\n",
       "      <td>0.213333</td>\n",
       "      <td>0.572473</td>\n",
       "      <td>0.388870</td>\n",
       "      <td>0.0</td>\n",
       "      <td>0.0</td>\n",
       "      <td>1.0</td>\n",
       "      <td>0.0</td>\n",
       "      <td>0.0</td>\n",
       "      <td>0.0</td>\n",
       "      <td>0.0</td>\n",
       "      <td>0.0</td>\n",
       "      <td>0.0</td>\n",
       "      <td>1.0</td>\n",
       "    </tr>\n",
       "    <tr>\n",
       "      <th>...</th>\n",
       "      <td>...</td>\n",
       "      <td>...</td>\n",
       "      <td>...</td>\n",
       "      <td>...</td>\n",
       "      <td>...</td>\n",
       "      <td>...</td>\n",
       "      <td>...</td>\n",
       "      <td>...</td>\n",
       "      <td>...</td>\n",
       "      <td>...</td>\n",
       "      <td>...</td>\n",
       "      <td>...</td>\n",
       "      <td>...</td>\n",
       "      <td>...</td>\n",
       "      <td>...</td>\n",
       "      <td>...</td>\n",
       "      <td>...</td>\n",
       "      <td>...</td>\n",
       "      <td>...</td>\n",
       "      <td>...</td>\n",
       "    </tr>\n",
       "    <tr>\n",
       "      <th>673</th>\n",
       "      <td>0.085180</td>\n",
       "      <td>0.490869</td>\n",
       "      <td>0.805669</td>\n",
       "      <td>0.000000</td>\n",
       "      <td>0.000000</td>\n",
       "      <td>0.416317</td>\n",
       "      <td>0.724173</td>\n",
       "      <td>0.186667</td>\n",
       "      <td>0.322653</td>\n",
       "      <td>0.906714</td>\n",
       "      <td>1.0</td>\n",
       "      <td>0.0</td>\n",
       "      <td>0.0</td>\n",
       "      <td>0.0</td>\n",
       "      <td>0.0</td>\n",
       "      <td>1.0</td>\n",
       "      <td>0.0</td>\n",
       "      <td>0.0</td>\n",
       "      <td>0.0</td>\n",
       "      <td>0.0</td>\n",
       "    </tr>\n",
       "    <tr>\n",
       "      <th>674</th>\n",
       "      <td>0.250812</td>\n",
       "      <td>0.611297</td>\n",
       "      <td>0.665655</td>\n",
       "      <td>0.785714</td>\n",
       "      <td>0.241167</td>\n",
       "      <td>0.415231</td>\n",
       "      <td>0.620405</td>\n",
       "      <td>0.320000</td>\n",
       "      <td>0.391361</td>\n",
       "      <td>0.336242</td>\n",
       "      <td>0.0</td>\n",
       "      <td>0.0</td>\n",
       "      <td>1.0</td>\n",
       "      <td>0.0</td>\n",
       "      <td>0.0</td>\n",
       "      <td>1.0</td>\n",
       "      <td>0.0</td>\n",
       "      <td>0.0</td>\n",
       "      <td>1.0</td>\n",
       "      <td>0.0</td>\n",
       "    </tr>\n",
       "    <tr>\n",
       "      <th>675</th>\n",
       "      <td>0.449732</td>\n",
       "      <td>0.098939</td>\n",
       "      <td>0.858297</td>\n",
       "      <td>0.761905</td>\n",
       "      <td>0.275839</td>\n",
       "      <td>0.720634</td>\n",
       "      <td>0.886617</td>\n",
       "      <td>0.306667</td>\n",
       "      <td>0.452278</td>\n",
       "      <td>0.356751</td>\n",
       "      <td>0.0</td>\n",
       "      <td>0.0</td>\n",
       "      <td>0.0</td>\n",
       "      <td>0.0</td>\n",
       "      <td>0.0</td>\n",
       "      <td>1.0</td>\n",
       "      <td>0.0</td>\n",
       "      <td>1.0</td>\n",
       "      <td>0.0</td>\n",
       "      <td>0.0</td>\n",
       "    </tr>\n",
       "    <tr>\n",
       "      <th>676</th>\n",
       "      <td>0.519858</td>\n",
       "      <td>0.090232</td>\n",
       "      <td>0.453336</td>\n",
       "      <td>0.714286</td>\n",
       "      <td>0.317311</td>\n",
       "      <td>0.560459</td>\n",
       "      <td>0.432133</td>\n",
       "      <td>0.373333</td>\n",
       "      <td>0.326396</td>\n",
       "      <td>0.303396</td>\n",
       "      <td>0.0</td>\n",
       "      <td>1.0</td>\n",
       "      <td>0.0</td>\n",
       "      <td>1.0</td>\n",
       "      <td>0.0</td>\n",
       "      <td>0.0</td>\n",
       "      <td>0.0</td>\n",
       "      <td>1.0</td>\n",
       "      <td>0.0</td>\n",
       "      <td>0.0</td>\n",
       "    </tr>\n",
       "    <tr>\n",
       "      <th>677</th>\n",
       "      <td>0.155676</td>\n",
       "      <td>0.457200</td>\n",
       "      <td>0.537562</td>\n",
       "      <td>0.785714</td>\n",
       "      <td>0.000000</td>\n",
       "      <td>0.513739</td>\n",
       "      <td>0.470055</td>\n",
       "      <td>0.173333</td>\n",
       "      <td>0.378053</td>\n",
       "      <td>0.700154</td>\n",
       "      <td>0.0</td>\n",
       "      <td>0.0</td>\n",
       "      <td>0.0</td>\n",
       "      <td>0.0</td>\n",
       "      <td>0.0</td>\n",
       "      <td>1.0</td>\n",
       "      <td>0.0</td>\n",
       "      <td>1.0</td>\n",
       "      <td>0.0</td>\n",
       "      <td>0.0</td>\n",
       "    </tr>\n",
       "  </tbody>\n",
       "</table>\n",
       "<p>678 rows × 20 columns</p>\n",
       "</div>"
      ],
      "text/plain": [
       "     Dist_to_River       TWI  Rainfall  Clay_Content       TRI      NDVI  \\\n",
       "0         0.017297  0.520829  0.088173      0.666667  0.270604  0.713929   \n",
       "1         0.008649  0.570254  0.871880      0.761905  0.138092  0.395510   \n",
       "2         0.079737  0.170232  0.475129      0.761905  0.237181  0.373748   \n",
       "3         0.017297  0.567649  0.370257      0.690476  0.094671  0.735108   \n",
       "4         0.453789  0.506040  0.605048      0.785714  0.000000  0.459768   \n",
       "..             ...       ...       ...           ...       ...       ...   \n",
       "673       0.085180  0.490869  0.805669      0.000000  0.000000  0.416317   \n",
       "674       0.250812  0.611297  0.665655      0.785714  0.241167  0.415231   \n",
       "675       0.449732  0.098939  0.858297      0.761905  0.275839  0.720634   \n",
       "676       0.519858  0.090232  0.453336      0.714286  0.317311  0.560459   \n",
       "677       0.155676  0.457200  0.537562      0.785714  0.000000  0.513739   \n",
       "\n",
       "          MFI  Elevation     MNDWI  Drainage_Density  \\\n",
       "0    0.088429   0.253333  0.440593          0.190851   \n",
       "1    0.854243   0.253333  0.250467          0.622337   \n",
       "2    0.427817   0.320000  0.398804          0.711552   \n",
       "3    0.395295   0.240000  0.452172          0.368527   \n",
       "4    0.543641   0.213333  0.572473          0.388870   \n",
       "..        ...        ...       ...               ...   \n",
       "673  0.724173   0.186667  0.322653          0.906714   \n",
       "674  0.620405   0.320000  0.391361          0.336242   \n",
       "675  0.886617   0.306667  0.452278          0.356751   \n",
       "676  0.432133   0.373333  0.326396          0.303396   \n",
       "677  0.470055   0.173333  0.378053          0.700154   \n",
       "\n",
       "     Geomorphology_Active_Flood_Plain  Geomorphology_Older_Alluvial_Plain  \\\n",
       "0                                 1.0                                 0.0   \n",
       "1                                 0.0                                 1.0   \n",
       "2                                 0.0                                 0.0   \n",
       "3                                 1.0                                 0.0   \n",
       "4                                 0.0                                 0.0   \n",
       "..                                ...                                 ...   \n",
       "673                               1.0                                 0.0   \n",
       "674                               0.0                                 0.0   \n",
       "675                               0.0                                 0.0   \n",
       "676                               0.0                                 1.0   \n",
       "677                               0.0                                 0.0   \n",
       "\n",
       "     Geomorphology_Older_Flood_Plain  Lithology_Cl_wi_S_Si_Ir_N  \\\n",
       "0                                0.0                        0.0   \n",
       "1                                0.0                        0.0   \n",
       "2                                1.0                        0.0   \n",
       "3                                0.0                        0.0   \n",
       "4                                1.0                        0.0   \n",
       "..                               ...                        ...   \n",
       "673                              0.0                        0.0   \n",
       "674                              1.0                        0.0   \n",
       "675                              0.0                        0.0   \n",
       "676                              0.0                        1.0   \n",
       "677                              0.0                        0.0   \n",
       "\n",
       "     Lithology_Fe_Ox_S_Si_Cl  Lithology_S_Si_Cl  Lithology_S_Si_Cl_wi_Cal_Co  \\\n",
       "0                        0.0                1.0                          0.0   \n",
       "1                        0.0                1.0                          0.0   \n",
       "2                        0.0                0.0                          0.0   \n",
       "3                        0.0                1.0                          0.0   \n",
       "4                        0.0                0.0                          0.0   \n",
       "..                       ...                ...                          ...   \n",
       "673                      0.0                1.0                          0.0   \n",
       "674                      0.0                1.0                          0.0   \n",
       "675                      0.0                1.0                          0.0   \n",
       "676                      0.0                0.0                          0.0   \n",
       "677                      0.0                1.0                          0.0   \n",
       "\n",
       "     LULC_Agricultural_Field  LULC_Built_UP_Area  LULC_Natural_Vegetation  \n",
       "0                        1.0                 0.0                      0.0  \n",
       "1                        1.0                 0.0                      0.0  \n",
       "2                        0.0                 1.0                      0.0  \n",
       "3                        1.0                 0.0                      0.0  \n",
       "4                        0.0                 0.0                      1.0  \n",
       "..                       ...                 ...                      ...  \n",
       "673                      0.0                 0.0                      0.0  \n",
       "674                      0.0                 1.0                      0.0  \n",
       "675                      1.0                 0.0                      0.0  \n",
       "676                      1.0                 0.0                      0.0  \n",
       "677                      1.0                 0.0                      0.0  \n",
       "\n",
       "[678 rows x 20 columns]"
      ]
     },
     "execution_count": 13,
     "metadata": {},
     "output_type": "execute_result"
    }
   ],
   "source": [
    "X_test = X_test[selected_features]\n",
    "X_test"
   ]
  },
  {
   "cell_type": "markdown",
   "id": "4fcbe03b-2de0-4755-93b0-64b874527a9e",
   "metadata": {},
   "source": [
    "## **Apply Support Vector Classification**"
   ]
  },
  {
   "cell_type": "markdown",
   "id": "8792a188-5405-4a98-9b68-6c92b7ad33ea",
   "metadata": {},
   "source": [
    "### **Build a Support Vector Classification Model**"
   ]
  },
  {
   "cell_type": "code",
   "execution_count": 14,
   "id": "f7536a34-8577-44a4-bf3c-27e981d0cace",
   "metadata": {
    "tags": []
   },
   "outputs": [],
   "source": [
    "from sklearn.svm import SVC"
   ]
  },
  {
   "cell_type": "code",
   "execution_count": 15,
   "id": "4f9cef22-88be-4d74-91b4-d176213ebedc",
   "metadata": {
    "tags": []
   },
   "outputs": [],
   "source": [
    "# Instantiate a SVC object\n",
    "svc = SVC(probability=True)"
   ]
  },
  {
   "cell_type": "markdown",
   "id": "9081ed80-01d9-4f8d-bc6f-916658914899",
   "metadata": {},
   "source": [
    "### **Hyperparameter Tuning**"
   ]
  },
  {
   "cell_type": "code",
   "execution_count": 16,
   "id": "c9be8d71-9245-456e-baec-698e9bb86a79",
   "metadata": {
    "tags": []
   },
   "outputs": [],
   "source": [
    "# Define all the hyperparameters for Support Vector Classification Model\n",
    "svc_param_grid = {\n",
    "    'C': [0.1, 1, 10, 100],\n",
    "    'kernel': ['linear', 'poly', 'rbf', 'sigmoid'],\n",
    "    'gamma': [0.1, 1, 10]\n",
    "}"
   ]
  },
  {
   "cell_type": "code",
   "execution_count": 17,
   "id": "242de320-0383-474f-8631-6487f040b05c",
   "metadata": {
    "tags": []
   },
   "outputs": [],
   "source": [
    "from sklearn.model_selection import RandomizedSearchCV"
   ]
  },
  {
   "cell_type": "code",
   "execution_count": 18,
   "id": "0c47b02f-9f61-451e-9063-05caed289b31",
   "metadata": {
    "tags": []
   },
   "outputs": [],
   "source": [
    "# Apply Randomized Search CV\n",
    "svc_grid = RandomizedSearchCV(estimator=svc,\n",
    "                              param_distributions=svc_param_grid,\n",
    "                              n_iter=1000,\n",
    "                              scoring=\"accuracy\",\n",
    "                              n_jobs=-1,\n",
    "                              cv=5,\n",
    "                              verbose=1)"
   ]
  },
  {
   "cell_type": "code",
   "execution_count": 19,
   "id": "c8a4be8a-70a7-44ab-8a1e-a9a70a53290f",
   "metadata": {
    "tags": []
   },
   "outputs": [
    {
     "name": "stdout",
     "output_type": "stream",
     "text": [
      "Fitting 5 folds for each of 48 candidates, totalling 240 fits\n"
     ]
    },
    {
     "data": {
      "text/html": [
       "<style>#sk-container-id-1 {color: black;}#sk-container-id-1 pre{padding: 0;}#sk-container-id-1 div.sk-toggleable {background-color: white;}#sk-container-id-1 label.sk-toggleable__label {cursor: pointer;display: block;width: 100%;margin-bottom: 0;padding: 0.3em;box-sizing: border-box;text-align: center;}#sk-container-id-1 label.sk-toggleable__label-arrow:before {content: \"▸\";float: left;margin-right: 0.25em;color: #696969;}#sk-container-id-1 label.sk-toggleable__label-arrow:hover:before {color: black;}#sk-container-id-1 div.sk-estimator:hover label.sk-toggleable__label-arrow:before {color: black;}#sk-container-id-1 div.sk-toggleable__content {max-height: 0;max-width: 0;overflow: hidden;text-align: left;background-color: #f0f8ff;}#sk-container-id-1 div.sk-toggleable__content pre {margin: 0.2em;color: black;border-radius: 0.25em;background-color: #f0f8ff;}#sk-container-id-1 input.sk-toggleable__control:checked~div.sk-toggleable__content {max-height: 200px;max-width: 100%;overflow: auto;}#sk-container-id-1 input.sk-toggleable__control:checked~label.sk-toggleable__label-arrow:before {content: \"▾\";}#sk-container-id-1 div.sk-estimator input.sk-toggleable__control:checked~label.sk-toggleable__label {background-color: #d4ebff;}#sk-container-id-1 div.sk-label input.sk-toggleable__control:checked~label.sk-toggleable__label {background-color: #d4ebff;}#sk-container-id-1 input.sk-hidden--visually {border: 0;clip: rect(1px 1px 1px 1px);clip: rect(1px, 1px, 1px, 1px);height: 1px;margin: -1px;overflow: hidden;padding: 0;position: absolute;width: 1px;}#sk-container-id-1 div.sk-estimator {font-family: monospace;background-color: #f0f8ff;border: 1px dotted black;border-radius: 0.25em;box-sizing: border-box;margin-bottom: 0.5em;}#sk-container-id-1 div.sk-estimator:hover {background-color: #d4ebff;}#sk-container-id-1 div.sk-parallel-item::after {content: \"\";width: 100%;border-bottom: 1px solid gray;flex-grow: 1;}#sk-container-id-1 div.sk-label:hover label.sk-toggleable__label {background-color: #d4ebff;}#sk-container-id-1 div.sk-serial::before {content: \"\";position: absolute;border-left: 1px solid gray;box-sizing: border-box;top: 0;bottom: 0;left: 50%;z-index: 0;}#sk-container-id-1 div.sk-serial {display: flex;flex-direction: column;align-items: center;background-color: white;padding-right: 0.2em;padding-left: 0.2em;position: relative;}#sk-container-id-1 div.sk-item {position: relative;z-index: 1;}#sk-container-id-1 div.sk-parallel {display: flex;align-items: stretch;justify-content: center;background-color: white;position: relative;}#sk-container-id-1 div.sk-item::before, #sk-container-id-1 div.sk-parallel-item::before {content: \"\";position: absolute;border-left: 1px solid gray;box-sizing: border-box;top: 0;bottom: 0;left: 50%;z-index: -1;}#sk-container-id-1 div.sk-parallel-item {display: flex;flex-direction: column;z-index: 1;position: relative;background-color: white;}#sk-container-id-1 div.sk-parallel-item:first-child::after {align-self: flex-end;width: 50%;}#sk-container-id-1 div.sk-parallel-item:last-child::after {align-self: flex-start;width: 50%;}#sk-container-id-1 div.sk-parallel-item:only-child::after {width: 0;}#sk-container-id-1 div.sk-dashed-wrapped {border: 1px dashed gray;margin: 0 0.4em 0.5em 0.4em;box-sizing: border-box;padding-bottom: 0.4em;background-color: white;}#sk-container-id-1 div.sk-label label {font-family: monospace;font-weight: bold;display: inline-block;line-height: 1.2em;}#sk-container-id-1 div.sk-label-container {text-align: center;}#sk-container-id-1 div.sk-container {/* jupyter's `normalize.less` sets `[hidden] { display: none; }` but bootstrap.min.css set `[hidden] { display: none !important; }` so we also need the `!important` here to be able to override the default hidden behavior on the sphinx rendered scikit-learn.org. See: https://github.com/scikit-learn/scikit-learn/issues/21755 */display: inline-block !important;position: relative;}#sk-container-id-1 div.sk-text-repr-fallback {display: none;}</style><div id=\"sk-container-id-1\" class=\"sk-top-container\"><div class=\"sk-text-repr-fallback\"><pre>RandomizedSearchCV(cv=5, estimator=SVC(probability=True), n_iter=1000,\n",
       "                   n_jobs=-1,\n",
       "                   param_distributions={&#x27;C&#x27;: [0.1, 1, 10, 100],\n",
       "                                        &#x27;gamma&#x27;: [0.1, 1, 10],\n",
       "                                        &#x27;kernel&#x27;: [&#x27;linear&#x27;, &#x27;poly&#x27;, &#x27;rbf&#x27;,\n",
       "                                                   &#x27;sigmoid&#x27;]},\n",
       "                   scoring=&#x27;accuracy&#x27;, verbose=1)</pre><b>In a Jupyter environment, please rerun this cell to show the HTML representation or trust the notebook. <br />On GitHub, the HTML representation is unable to render, please try loading this page with nbviewer.org.</b></div><div class=\"sk-container\" hidden><div class=\"sk-item sk-dashed-wrapped\"><div class=\"sk-label-container\"><div class=\"sk-label sk-toggleable\"><input class=\"sk-toggleable__control sk-hidden--visually\" id=\"sk-estimator-id-1\" type=\"checkbox\" ><label for=\"sk-estimator-id-1\" class=\"sk-toggleable__label sk-toggleable__label-arrow\">RandomizedSearchCV</label><div class=\"sk-toggleable__content\"><pre>RandomizedSearchCV(cv=5, estimator=SVC(probability=True), n_iter=1000,\n",
       "                   n_jobs=-1,\n",
       "                   param_distributions={&#x27;C&#x27;: [0.1, 1, 10, 100],\n",
       "                                        &#x27;gamma&#x27;: [0.1, 1, 10],\n",
       "                                        &#x27;kernel&#x27;: [&#x27;linear&#x27;, &#x27;poly&#x27;, &#x27;rbf&#x27;,\n",
       "                                                   &#x27;sigmoid&#x27;]},\n",
       "                   scoring=&#x27;accuracy&#x27;, verbose=1)</pre></div></div></div><div class=\"sk-parallel\"><div class=\"sk-parallel-item\"><div class=\"sk-item\"><div class=\"sk-label-container\"><div class=\"sk-label sk-toggleable\"><input class=\"sk-toggleable__control sk-hidden--visually\" id=\"sk-estimator-id-2\" type=\"checkbox\" ><label for=\"sk-estimator-id-2\" class=\"sk-toggleable__label sk-toggleable__label-arrow\">estimator: SVC</label><div class=\"sk-toggleable__content\"><pre>SVC(probability=True)</pre></div></div></div><div class=\"sk-serial\"><div class=\"sk-item\"><div class=\"sk-estimator sk-toggleable\"><input class=\"sk-toggleable__control sk-hidden--visually\" id=\"sk-estimator-id-3\" type=\"checkbox\" ><label for=\"sk-estimator-id-3\" class=\"sk-toggleable__label sk-toggleable__label-arrow\">SVC</label><div class=\"sk-toggleable__content\"><pre>SVC(probability=True)</pre></div></div></div></div></div></div></div></div></div></div>"
      ],
      "text/plain": [
       "RandomizedSearchCV(cv=5, estimator=SVC(probability=True), n_iter=1000,\n",
       "                   n_jobs=-1,\n",
       "                   param_distributions={'C': [0.1, 1, 10, 100],\n",
       "                                        'gamma': [0.1, 1, 10],\n",
       "                                        'kernel': ['linear', 'poly', 'rbf',\n",
       "                                                   'sigmoid']},\n",
       "                   scoring='accuracy', verbose=1)"
      ]
     },
     "execution_count": 19,
     "metadata": {},
     "output_type": "execute_result"
    }
   ],
   "source": [
    "# Fit the training data to Randomized Search CV\n",
    "svc_grid.fit(X_train, y_train)"
   ]
  },
  {
   "cell_type": "code",
   "execution_count": 20,
   "id": "665d4bac-0f8e-4325-98e6-4fb75d030aac",
   "metadata": {
    "tags": []
   },
   "outputs": [
    {
     "data": {
      "text/plain": [
       "{'kernel': 'rbf', 'gamma': 1, 'C': 10}"
      ]
     },
     "execution_count": 20,
     "metadata": {},
     "output_type": "execute_result"
    }
   ],
   "source": [
    "svc_grid.best_params_"
   ]
  },
  {
   "cell_type": "code",
   "execution_count": 21,
   "id": "68ee8535-cc04-4eb3-bb88-49784fdf9ce8",
   "metadata": {
    "tags": []
   },
   "outputs": [
    {
     "data": {
      "text/plain": [
       "0.8426186958431497"
      ]
     },
     "execution_count": 21,
     "metadata": {},
     "output_type": "execute_result"
    }
   ],
   "source": [
    "# Check the best score\n",
    "svc_grid.best_score_"
   ]
  },
  {
   "cell_type": "code",
   "execution_count": 22,
   "id": "52fa9edf-107d-4eb8-ad66-3d8a7f5d33a5",
   "metadata": {
    "tags": []
   },
   "outputs": [
    {
     "data": {
      "text/html": [
       "<style>#sk-container-id-2 {color: black;}#sk-container-id-2 pre{padding: 0;}#sk-container-id-2 div.sk-toggleable {background-color: white;}#sk-container-id-2 label.sk-toggleable__label {cursor: pointer;display: block;width: 100%;margin-bottom: 0;padding: 0.3em;box-sizing: border-box;text-align: center;}#sk-container-id-2 label.sk-toggleable__label-arrow:before {content: \"▸\";float: left;margin-right: 0.25em;color: #696969;}#sk-container-id-2 label.sk-toggleable__label-arrow:hover:before {color: black;}#sk-container-id-2 div.sk-estimator:hover label.sk-toggleable__label-arrow:before {color: black;}#sk-container-id-2 div.sk-toggleable__content {max-height: 0;max-width: 0;overflow: hidden;text-align: left;background-color: #f0f8ff;}#sk-container-id-2 div.sk-toggleable__content pre {margin: 0.2em;color: black;border-radius: 0.25em;background-color: #f0f8ff;}#sk-container-id-2 input.sk-toggleable__control:checked~div.sk-toggleable__content {max-height: 200px;max-width: 100%;overflow: auto;}#sk-container-id-2 input.sk-toggleable__control:checked~label.sk-toggleable__label-arrow:before {content: \"▾\";}#sk-container-id-2 div.sk-estimator input.sk-toggleable__control:checked~label.sk-toggleable__label {background-color: #d4ebff;}#sk-container-id-2 div.sk-label input.sk-toggleable__control:checked~label.sk-toggleable__label {background-color: #d4ebff;}#sk-container-id-2 input.sk-hidden--visually {border: 0;clip: rect(1px 1px 1px 1px);clip: rect(1px, 1px, 1px, 1px);height: 1px;margin: -1px;overflow: hidden;padding: 0;position: absolute;width: 1px;}#sk-container-id-2 div.sk-estimator {font-family: monospace;background-color: #f0f8ff;border: 1px dotted black;border-radius: 0.25em;box-sizing: border-box;margin-bottom: 0.5em;}#sk-container-id-2 div.sk-estimator:hover {background-color: #d4ebff;}#sk-container-id-2 div.sk-parallel-item::after {content: \"\";width: 100%;border-bottom: 1px solid gray;flex-grow: 1;}#sk-container-id-2 div.sk-label:hover label.sk-toggleable__label {background-color: #d4ebff;}#sk-container-id-2 div.sk-serial::before {content: \"\";position: absolute;border-left: 1px solid gray;box-sizing: border-box;top: 0;bottom: 0;left: 50%;z-index: 0;}#sk-container-id-2 div.sk-serial {display: flex;flex-direction: column;align-items: center;background-color: white;padding-right: 0.2em;padding-left: 0.2em;position: relative;}#sk-container-id-2 div.sk-item {position: relative;z-index: 1;}#sk-container-id-2 div.sk-parallel {display: flex;align-items: stretch;justify-content: center;background-color: white;position: relative;}#sk-container-id-2 div.sk-item::before, #sk-container-id-2 div.sk-parallel-item::before {content: \"\";position: absolute;border-left: 1px solid gray;box-sizing: border-box;top: 0;bottom: 0;left: 50%;z-index: -1;}#sk-container-id-2 div.sk-parallel-item {display: flex;flex-direction: column;z-index: 1;position: relative;background-color: white;}#sk-container-id-2 div.sk-parallel-item:first-child::after {align-self: flex-end;width: 50%;}#sk-container-id-2 div.sk-parallel-item:last-child::after {align-self: flex-start;width: 50%;}#sk-container-id-2 div.sk-parallel-item:only-child::after {width: 0;}#sk-container-id-2 div.sk-dashed-wrapped {border: 1px dashed gray;margin: 0 0.4em 0.5em 0.4em;box-sizing: border-box;padding-bottom: 0.4em;background-color: white;}#sk-container-id-2 div.sk-label label {font-family: monospace;font-weight: bold;display: inline-block;line-height: 1.2em;}#sk-container-id-2 div.sk-label-container {text-align: center;}#sk-container-id-2 div.sk-container {/* jupyter's `normalize.less` sets `[hidden] { display: none; }` but bootstrap.min.css set `[hidden] { display: none !important; }` so we also need the `!important` here to be able to override the default hidden behavior on the sphinx rendered scikit-learn.org. See: https://github.com/scikit-learn/scikit-learn/issues/21755 */display: inline-block !important;position: relative;}#sk-container-id-2 div.sk-text-repr-fallback {display: none;}</style><div id=\"sk-container-id-2\" class=\"sk-top-container\"><div class=\"sk-text-repr-fallback\"><pre>SVC(C=10, gamma=1, probability=True)</pre><b>In a Jupyter environment, please rerun this cell to show the HTML representation or trust the notebook. <br />On GitHub, the HTML representation is unable to render, please try loading this page with nbviewer.org.</b></div><div class=\"sk-container\" hidden><div class=\"sk-item\"><div class=\"sk-estimator sk-toggleable\"><input class=\"sk-toggleable__control sk-hidden--visually\" id=\"sk-estimator-id-4\" type=\"checkbox\" checked><label for=\"sk-estimator-id-4\" class=\"sk-toggleable__label sk-toggleable__label-arrow\">SVC</label><div class=\"sk-toggleable__content\"><pre>SVC(C=10, gamma=1, probability=True)</pre></div></div></div></div></div>"
      ],
      "text/plain": [
       "SVC(C=10, gamma=1, probability=True)"
      ]
     },
     "execution_count": 22,
     "metadata": {},
     "output_type": "execute_result"
    }
   ],
   "source": [
    "# Build a Logistic Regression Model with best estimators\n",
    "svc_final = svc_grid.best_estimator_\n",
    "svc_final"
   ]
  },
  {
   "cell_type": "markdown",
   "id": "652f0ba4-1149-4eaa-a513-8b648e22d584",
   "metadata": {},
   "source": [
    "## **Accuracy Assessment**"
   ]
  },
  {
   "cell_type": "code",
   "execution_count": 33,
   "id": "415b0fda-be10-4884-a065-1230e6371a7d",
   "metadata": {
    "tags": []
   },
   "outputs": [],
   "source": [
    "# Predict the test data\n",
    "y_pred = svc_final.predict(X_test)"
   ]
  },
  {
   "cell_type": "code",
   "execution_count": 34,
   "id": "0a0be7f6-4b2f-4dd6-bb90-afc8d28fe86f",
   "metadata": {
    "tags": []
   },
   "outputs": [],
   "source": [
    "from sklearn.metrics import accuracy_score, classification_report"
   ]
  },
  {
   "cell_type": "code",
   "execution_count": 35,
   "id": "49193e84-ea07-4c8a-a52d-c6b1b399d900",
   "metadata": {
    "tags": []
   },
   "outputs": [
    {
     "name": "stdout",
     "output_type": "stream",
     "text": [
      "Accuracy: 0.855457227138643\n"
     ]
    }
   ],
   "source": [
    "print(\"Accuracy:\", accuracy_score(y_test, y_pred))"
   ]
  },
  {
   "cell_type": "code",
   "execution_count": 36,
   "id": "05ebb589-f732-4ae0-8d33-24cd0a975a23",
   "metadata": {
    "tags": []
   },
   "outputs": [
    {
     "name": "stdout",
     "output_type": "stream",
     "text": [
      "              precision    recall  f1-score   support\n",
      "\n",
      "           0       0.87      0.82      0.84       323\n",
      "           1       0.84      0.89      0.87       355\n",
      "\n",
      "    accuracy                           0.86       678\n",
      "   macro avg       0.86      0.85      0.85       678\n",
      "weighted avg       0.86      0.86      0.86       678\n",
      "\n"
     ]
    }
   ],
   "source": [
    "print(classification_report(y_test, y_pred))"
   ]
  },
  {
   "cell_type": "markdown",
   "id": "108e8b6e-37cf-4f0f-b159-f88bfcc8367c",
   "metadata": {},
   "source": [
    "## **Feature Importance**"
   ]
  },
  {
   "cell_type": "code",
   "execution_count": 37,
   "id": "c6e44bef-06cb-4388-8fd1-4cfb29a50908",
   "metadata": {
    "tags": []
   },
   "outputs": [],
   "source": [
    "from sklearn.inspection import permutation_importance\n",
    "\n",
    "# Perform permutation feature importance\n",
    "perm_importance = permutation_importance(svc_final, X_test, y_test, n_repeats=30)\n",
    "\n",
    "# Get the importance scores\n",
    "importance_scores = perm_importance.importances_mean"
   ]
  },
  {
   "cell_type": "code",
   "execution_count": 38,
   "id": "c970617b-8272-4b2a-aba2-e0175927f9de",
   "metadata": {
    "tags": []
   },
   "outputs": [
    {
     "data": {
      "text/plain": [
       "Geomorphology_Older_Alluvial_Plain    0.100000\n",
       "MFI                                   0.036922\n",
       "LULC_Built_UP_Area                    0.029597\n",
       "Geomorphology_Older_Flood_Plain       0.029253\n",
       "Rainfall                              0.028319\n",
       "Geomorphology_Active_Flood_Plain      0.026352\n",
       "LULC_Natural_Vegetation               0.024090\n",
       "Lithology_Cl_wi_S_Si_Ir_N             0.012881\n",
       "Drainage_Density                      0.010521\n",
       "Elevation                             0.009685\n",
       "Clay_Content                          0.007817\n",
       "Lithology_S_Si_Cl_wi_Cal_Co           0.007473\n",
       "TWI                                   0.006588\n",
       "Dist_to_River                         0.006244\n",
       "Lithology_S_Si_Cl                     0.002852\n",
       "MNDWI                                 0.002409\n",
       "LULC_Agricultural_Field               0.002311\n",
       "Lithology_Fe_Ox_S_Si_Cl               0.000098\n",
       "NDVI                                 -0.000197\n",
       "TRI                                  -0.001475\n",
       "dtype: float64"
      ]
     },
     "execution_count": 38,
     "metadata": {},
     "output_type": "execute_result"
    }
   ],
   "source": [
    "# Get the feature importance\n",
    "feature_importance = importance_scores\n",
    "\n",
    "# Convert the feature importance into a pandas series\n",
    "feature_importance = pd.Series(feature_importance, index=X_train.columns)\n",
    "\n",
    "# Sort the values in descending order\n",
    "feature_importance = feature_importance.sort_values(ascending=False)\n",
    "feature_importance"
   ]
  },
  {
   "cell_type": "code",
   "execution_count": 39,
   "id": "d058cc2b-446a-4950-97b4-1c35e341574b",
   "metadata": {
    "tags": []
   },
   "outputs": [
    {
     "data": {
      "image/png": "[encoded data removed]",
      "text/plain": [
       "<Figure size 600x800 with 1 Axes>"
      ]
     },
     "metadata": {},
     "output_type": "display_data"
    }
   ],
   "source": [
    "# Plot the feature importance\n",
    "plt.figure(figsize=(6, 8), dpi=100)\n",
    "\n",
    "# Define a color palette\n",
    "color_palette = sns.color_palette(palette=\"coolwarm\", n_colors=len(feature_importance))\n",
    "\n",
    "sns.barplot(x=feature_importance, y=feature_importance.index, palette=color_palette, \n",
    "            edgecolor=\"black\", linewidth=0.5)\n",
    "plt.title(\"Feature Importance\", fontname=\"Times New Roman\", color=\"black\", fontsize=12)\n",
    "plt.xticks(fontname=\"Times New Roman\")\n",
    "plt.yticks(fontname=\"Times New Roman\")\n",
    "plt.show()"
   ]
  },
  {
   "cell_type": "markdown",
   "id": "f2114320-0b00-4304-990d-ba3dba41c1b4",
   "metadata": {},
   "source": [
    "## **Export the Model**"
   ]
  },
  {
   "cell_type": "code",
   "execution_count": 40,
   "id": "b40a0351-3dfc-4fdf-87cb-9f756a840736",
   "metadata": {
    "tags": []
   },
   "outputs": [],
   "source": [
    "import pickle"
   ]
  },
  {
   "cell_type": "code",
   "execution_count": 41,
   "id": "4d222f99-4915-4fd0-b7c5-779d9bca5830",
   "metadata": {
    "tags": []
   },
   "outputs": [],
   "source": [
    "output_folder = \"D:\\\\Coding\\\\Git Repository\\\\Research Repo\\\\Flood\\\\Flood-Susceptibility-Zonation-of-Maldah\\\\Model\\\\\"\n",
    "model_name = \"svm_model.pkl\""
   ]
  },
  {
   "cell_type": "code",
   "execution_count": 43,
   "id": "bc2bd7a4-1927-4198-8712-b1f25c32cd86",
   "metadata": {
    "tags": []
   },
   "outputs": [],
   "source": [
    "# Export the model\n",
    "# pickle.dump(svc_final, file=open(output_folder+model_name, \"wb\"))"
   ]
  }
 ],
 "metadata": {
  "kernelspec": {
   "display_name": "Python 3 (ipykernel)",
   "language": "python",
   "name": "python3"
  },
  "language_info": {
   "codemirror_mode": {
    "name": "ipython",
    "version": 3
   },
   "file_extension": ".py",
   "mimetype": "text/x-python",
   "name": "python",
   "nbconvert_exporter": "python",
   "pygments_lexer": "ipython3",
   "version": "3.11.4"
  }
 },
 "nbformat": 4,
 "nbformat_minor": 5
}
